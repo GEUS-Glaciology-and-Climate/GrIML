{
 "cells": [
  {
   "metadata": {
    "ExecuteTime": {
     "end_time": "2025-05-13T18:21:22.686085Z",
     "start_time": "2025-05-13T18:21:21.101521Z"
    }
   },
   "cell_type": "code",
   "source": [
    "# Import GrIML functions for processing\n",
    "from griml.convert.convert import convert\n",
    "from griml.filter.filter_vectors import filter_vectors\n",
    "from griml.merge.merge_vectors import merge_vectors\n",
    "from griml.metadata.add_metadata import add_metadata"
   ],
   "id": "2f2763bfa65faf2c",
   "outputs": [],
   "execution_count": 1
  },
  {
   "metadata": {
    "ExecuteTime": {
     "end_time": "2025-05-13T18:22:04.526357Z",
     "start_time": "2025-05-13T18:22:04.520061Z"
    }
   },
   "cell_type": "code",
   "source": [
    "# Define projection of input binary raster\n",
    "proj = 'EPSG:3413'\n",
    "\n",
    "# Define band information of binary raster\n",
    "band_info = [{'b_number':1, 'method':'VIS', 'source':'S2'},\n",
    "            {'b_number':2, 'method':'SAR', 'source':'S1'},\n",
    "            {'b_number':3, 'method':'DEM', 'source':'ARCTICDEM'}]\n",
    "\n",
    "# Define start and end dates of acquisitions from which rasters are created\n",
    "start='20170701'\n",
    "end='20170831'\n",
    "\n",
    "# Define input binary raster\n",
    "infile = 'test_data/test_north_greenland.tif'"
   ],
   "id": "577b5fa8a7529165",
   "outputs": [],
   "execution_count": 2
  },
  {
   "metadata": {
    "ExecuteTime": {
     "end_time": "2025-05-13T18:27:12.580219Z",
     "start_time": "2025-05-13T18:25:35.473980Z"
    }
   },
   "cell_type": "code",
   "source": [
    "# Convert binary raster to vectors\n",
    "convert([infile], proj, band_info, start, end)"
   ],
   "id": "55abc077bfbe57e4",
   "outputs": [
    {
     "name": "stdout",
     "output_type": "stream",
     "text": [
      "\n",
      "1. Converting test_north_greenland.tif\n",
      "Retrieving vectors from band S2...\n",
      "Retrieving vectors from band S1...\n",
      "Retrieving vectors from band ARCTICDEM...\n"
     ]
    },
    {
     "data": {
      "text/plain": [
       "[                                                 geometry method     source  \\\n",
       " row_id                                                                        \n",
       " 1       POLYGON ((-240140 -742150, -240140 -742190, -2...    VIS         S2   \n",
       " 2       POLYGON ((-240300 -742190, -240300 -742200, -2...    VIS         S2   \n",
       " 3       POLYGON ((-240170 -742190, -240170 -742220, -2...    VIS         S2   \n",
       " 4       POLYGON ((-241180 -742240, -241180 -742260, -2...    VIS         S2   \n",
       " 5       POLYGON ((-239900 -742250, -239900 -742260, -2...    VIS         S2   \n",
       " ...                                                   ...    ...        ...   \n",
       " 702096  POLYGON ((-356570 -974130, -356560 -974130, -3...    DEM  ARCTICDEM   \n",
       " 702097  POLYGON ((-352970 -974040, -352960 -974040, -3...    DEM  ARCTICDEM   \n",
       " 702098  POLYGON ((-309630 -974140, -309630 -974150, -3...    DEM  ARCTICDEM   \n",
       " 702099  POLYGON ((-290390 -974120, -290370 -974120, -2...    DEM  ARCTICDEM   \n",
       " 702100  POLYGON ((-263360 -974130, -263310 -974130, -2...    DEM  ARCTICDEM   \n",
       " \n",
       "        startdate   enddate  \n",
       " row_id                      \n",
       " 1       20170701  20170831  \n",
       " 2       20170701  20170831  \n",
       " 3       20170701  20170831  \n",
       " 4       20170701  20170831  \n",
       " 5       20170701  20170831  \n",
       " ...          ...       ...  \n",
       " 702096  20170701  20170831  \n",
       " 702097  20170701  20170831  \n",
       " 702098  20170701  20170831  \n",
       " 702099  20170701  20170831  \n",
       " 702100  20170701  20170831  \n",
       " \n",
       " [702100 rows x 5 columns]]"
      ]
     },
     "execution_count": 4,
     "metadata": {},
     "output_type": "execute_result"
    }
   ],
   "execution_count": 4
  },
  {
   "metadata": {
    "ExecuteTime": {
     "end_time": "2025-05-13T18:28:19.120075Z",
     "start_time": "2025-05-13T18:27:38.926371Z"
    }
   },
   "cell_type": "code",
   "source": [
    "# Define input vector dataset\n",
    "infile1 = 'test_data/test_filter.shp'\n",
    "\n",
    "# Define ice mask for spatial filtering\n",
    "infile2 = 'test_data/test_icemask.shp'\n",
    "\n",
    "# Filter vectors by ice mask\n",
    "filter_vectors([infile1], infile2)"
   ],
   "id": "af777aea3655663f",
   "outputs": [
    {
     "name": "stdout",
     "output_type": "stream",
     "text": [
      "\n",
      "1/1: Filtering vectors in test_filter.shp\n",
      "1760 features over 0.05 sq km\n",
      "0 features within 500 m of margin\n",
      "No vectors present after filter. Moving to next file.\n"
     ]
    }
   ],
   "execution_count": 5
  },
  {
   "metadata": {
    "ExecuteTime": {
     "end_time": "2025-05-13T18:28:55.779374Z",
     "start_time": "2025-05-13T18:28:55.510727Z"
    }
   },
   "cell_type": "code",
   "source": [
    "# Define vector datasets to merge together\n",
    "infile1 = 'test_data/test_merge_1.shp'\n",
    "infile2 = 'test_data/test_merge_2.shp'\n",
    "\n",
    "# Merge vector datasets\n",
    "merge_vectors([infile1,infile2])"
   ],
   "id": "5f5079f57f16711d",
   "outputs": [
    {
     "data": {
      "text/plain": [
       "                                                 geometry method     source  \\\n",
       "row_id                                                                        \n",
       "1       POLYGON ((173330 -2868710, 173340 -2868710, 17...    VIS         S2   \n",
       "2       POLYGON ((166430 -2869010, 166440 -2869010, 16...    VIS         S2   \n",
       "3       POLYGON ((220110 -2869650, 220140 -2869650, 22...    VIS         S2   \n",
       "4       POLYGON ((173160 -2871100, 173190 -2871100, 17...    VIS         S2   \n",
       "5       POLYGON ((168200 -2871450, 168270 -2871450, 16...    VIS         S2   \n",
       "...                                                   ...    ...        ...   \n",
       "935     POLYGON ((99650 -3306720, 99730 -3306720, 9973...    DEM  ARCTICDEM   \n",
       "936     POLYGON ((100990 -3307380, 101050 -3307380, 10...    DEM  ARCTICDEM   \n",
       "937     POLYGON ((93900 -3307800, 93980 -3307800, 9398...    DEM  ARCTICDEM   \n",
       "938     POLYGON ((85630 -3308390, 85650 -3308390, 8565...    DEM  ARCTICDEM   \n",
       "939     POLYGON ((86200 -3308290, 86230 -3308290, 8623...    DEM  ARCTICDEM   \n",
       "\n",
       "       startdate   enddate  area_sqkm  length_km  \n",
       "row_id                                            \n",
       "1       20170701  20170831     0.0531       2.96  \n",
       "2       20170701  20170831     0.0943       2.94  \n",
       "3       20170701  20170831     0.1139       4.18  \n",
       "4       20170701  20170831     0.1597       2.18  \n",
       "5       20170701  20170831     0.0557       1.26  \n",
       "...          ...       ...        ...        ...  \n",
       "935     20170701  20170831     0.0717       1.24  \n",
       "936     20170701  20170831     0.0514       1.16  \n",
       "937     20170701  20170831     0.7569       5.46  \n",
       "938     20170701  20170831     0.1487       2.52  \n",
       "939     20170701  20170831     0.3802       4.20  \n",
       "\n",
       "[4661 rows x 7 columns]"
      ],
      "text/html": [
       "<div>\n",
       "<style scoped>\n",
       "    .dataframe tbody tr th:only-of-type {\n",
       "        vertical-align: middle;\n",
       "    }\n",
       "\n",
       "    .dataframe tbody tr th {\n",
       "        vertical-align: top;\n",
       "    }\n",
       "\n",
       "    .dataframe thead th {\n",
       "        text-align: right;\n",
       "    }\n",
       "</style>\n",
       "<table border=\"1\" class=\"dataframe\">\n",
       "  <thead>\n",
       "    <tr style=\"text-align: right;\">\n",
       "      <th></th>\n",
       "      <th>geometry</th>\n",
       "      <th>method</th>\n",
       "      <th>source</th>\n",
       "      <th>startdate</th>\n",
       "      <th>enddate</th>\n",
       "      <th>area_sqkm</th>\n",
       "      <th>length_km</th>\n",
       "    </tr>\n",
       "    <tr>\n",
       "      <th>row_id</th>\n",
       "      <th></th>\n",
       "      <th></th>\n",
       "      <th></th>\n",
       "      <th></th>\n",
       "      <th></th>\n",
       "      <th></th>\n",
       "      <th></th>\n",
       "    </tr>\n",
       "  </thead>\n",
       "  <tbody>\n",
       "    <tr>\n",
       "      <th>1</th>\n",
       "      <td>POLYGON ((173330 -2868710, 173340 -2868710, 17...</td>\n",
       "      <td>VIS</td>\n",
       "      <td>S2</td>\n",
       "      <td>20170701</td>\n",
       "      <td>20170831</td>\n",
       "      <td>0.0531</td>\n",
       "      <td>2.96</td>\n",
       "    </tr>\n",
       "    <tr>\n",
       "      <th>2</th>\n",
       "      <td>POLYGON ((166430 -2869010, 166440 -2869010, 16...</td>\n",
       "      <td>VIS</td>\n",
       "      <td>S2</td>\n",
       "      <td>20170701</td>\n",
       "      <td>20170831</td>\n",
       "      <td>0.0943</td>\n",
       "      <td>2.94</td>\n",
       "    </tr>\n",
       "    <tr>\n",
       "      <th>3</th>\n",
       "      <td>POLYGON ((220110 -2869650, 220140 -2869650, 22...</td>\n",
       "      <td>VIS</td>\n",
       "      <td>S2</td>\n",
       "      <td>20170701</td>\n",
       "      <td>20170831</td>\n",
       "      <td>0.1139</td>\n",
       "      <td>4.18</td>\n",
       "    </tr>\n",
       "    <tr>\n",
       "      <th>4</th>\n",
       "      <td>POLYGON ((173160 -2871100, 173190 -2871100, 17...</td>\n",
       "      <td>VIS</td>\n",
       "      <td>S2</td>\n",
       "      <td>20170701</td>\n",
       "      <td>20170831</td>\n",
       "      <td>0.1597</td>\n",
       "      <td>2.18</td>\n",
       "    </tr>\n",
       "    <tr>\n",
       "      <th>5</th>\n",
       "      <td>POLYGON ((168200 -2871450, 168270 -2871450, 16...</td>\n",
       "      <td>VIS</td>\n",
       "      <td>S2</td>\n",
       "      <td>20170701</td>\n",
       "      <td>20170831</td>\n",
       "      <td>0.0557</td>\n",
       "      <td>1.26</td>\n",
       "    </tr>\n",
       "    <tr>\n",
       "      <th>...</th>\n",
       "      <td>...</td>\n",
       "      <td>...</td>\n",
       "      <td>...</td>\n",
       "      <td>...</td>\n",
       "      <td>...</td>\n",
       "      <td>...</td>\n",
       "      <td>...</td>\n",
       "    </tr>\n",
       "    <tr>\n",
       "      <th>935</th>\n",
       "      <td>POLYGON ((99650 -3306720, 99730 -3306720, 9973...</td>\n",
       "      <td>DEM</td>\n",
       "      <td>ARCTICDEM</td>\n",
       "      <td>20170701</td>\n",
       "      <td>20170831</td>\n",
       "      <td>0.0717</td>\n",
       "      <td>1.24</td>\n",
       "    </tr>\n",
       "    <tr>\n",
       "      <th>936</th>\n",
       "      <td>POLYGON ((100990 -3307380, 101050 -3307380, 10...</td>\n",
       "      <td>DEM</td>\n",
       "      <td>ARCTICDEM</td>\n",
       "      <td>20170701</td>\n",
       "      <td>20170831</td>\n",
       "      <td>0.0514</td>\n",
       "      <td>1.16</td>\n",
       "    </tr>\n",
       "    <tr>\n",
       "      <th>937</th>\n",
       "      <td>POLYGON ((93900 -3307800, 93980 -3307800, 9398...</td>\n",
       "      <td>DEM</td>\n",
       "      <td>ARCTICDEM</td>\n",
       "      <td>20170701</td>\n",
       "      <td>20170831</td>\n",
       "      <td>0.7569</td>\n",
       "      <td>5.46</td>\n",
       "    </tr>\n",
       "    <tr>\n",
       "      <th>938</th>\n",
       "      <td>POLYGON ((85630 -3308390, 85650 -3308390, 8565...</td>\n",
       "      <td>DEM</td>\n",
       "      <td>ARCTICDEM</td>\n",
       "      <td>20170701</td>\n",
       "      <td>20170831</td>\n",
       "      <td>0.1487</td>\n",
       "      <td>2.52</td>\n",
       "    </tr>\n",
       "    <tr>\n",
       "      <th>939</th>\n",
       "      <td>POLYGON ((86200 -3308290, 86230 -3308290, 8623...</td>\n",
       "      <td>DEM</td>\n",
       "      <td>ARCTICDEM</td>\n",
       "      <td>20170701</td>\n",
       "      <td>20170831</td>\n",
       "      <td>0.3802</td>\n",
       "      <td>4.20</td>\n",
       "    </tr>\n",
       "  </tbody>\n",
       "</table>\n",
       "<p>4661 rows × 7 columns</p>\n",
       "</div>"
      ]
     },
     "execution_count": 6,
     "metadata": {},
     "output_type": "execute_result"
    }
   ],
   "execution_count": 6
  },
  {
   "metadata": {
    "ExecuteTime": {
     "end_time": "2025-05-14T10:24:01.201842Z",
     "start_time": "2025-05-14T10:23:53.522251Z"
    }
   },
   "cell_type": "code",
   "source": [
    "# Define vector dataset\n",
    "infile1 = 'test_data/test_merge_2.shp'\n",
    "\n",
    "# Define placenames vector dataset\n",
    "infile2 = 'test_data/test_placenames.shp'\n",
    "\n",
    "# Define ice sheet basins dataset\n",
    "infile3 = 'test_data/greenland_basins_polarstereo.shp'\n",
    "\n",
    "# Add metadata to vector dataset\n",
    "add_metadata(infile1, infile2, infile3)"
   ],
   "id": "49b3b901d44b2c97",
   "outputs": [
    {
     "name": "stdout",
     "output_type": "stream",
     "text": [
      "Assigning ID...\n",
      "Assigning sources...\n",
      "Assigning certainty scores...\n",
      "Assigning regions...\n",
      "Assigning placenames...\n"
     ]
    }
   ],
   "execution_count": 8
  }
 ],
 "metadata": {
  "kernelspec": {
   "display_name": "Python 3",
   "language": "python",
   "name": "python3"
  },
  "language_info": {
   "codemirror_mode": {
    "name": "ipython",
    "version": 2
   },
   "file_extension": ".py",
   "mimetype": "text/x-python",
   "name": "python",
   "nbconvert_exporter": "python",
   "pygments_lexer": "ipython2",
   "version": "2.7.6"
  }
 },
 "nbformat": 4,
 "nbformat_minor": 5
}
