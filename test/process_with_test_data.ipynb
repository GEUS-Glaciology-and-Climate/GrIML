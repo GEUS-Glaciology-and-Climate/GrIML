{
  "metadata": {
    "kernelspec": {
      "name": "python",
      "display_name": "Python (Pyodide)",
      "language": "python"
    },
    "language_info": {
      "codemirror_mode": {
        "name": "python",
        "version": 3
      },
      "file_extension": ".py",
      "mimetype": "text/x-python",
      "name": "python",
      "nbconvert_exporter": "python",
      "pygments_lexer": "ipython3",
      "version": "3.8"
    }
  },
  "nbformat_minor": 5,
  "nbformat": 4,
  "cells": [
    {
      "id": "98f1a061-9150-4406-b08d-3daeb0cd2a25",
      "cell_type": "code",
      "source": "# Import GrIML functions for processing\nfrom griml.convert.convert import convert\nfrom griml.filter.filter_vectors import filter_vectors\nfrom griml.merge.merge_vectors import merge_vectors\nfrom griml.metadata.add_metadata import add_metadata",
      "metadata": {
        "trusted": true
      },
      "outputs": [
        {
          "ename": "<class 'ModuleNotFoundError'>",
          "evalue": "No module named 'griml'",
          "traceback": [
            "\u001b[0;31m---------------------------------------------------------------------------\u001b[0m",
            "\u001b[0;31mModuleNotFoundError\u001b[0m                       Traceback (most recent call last)",
            "Cell \u001b[0;32mIn[2], line 1\u001b[0m\n\u001b[0;32m----> 1\u001b[0m \u001b[38;5;28;01mfrom\u001b[39;00m \u001b[38;5;21;01mgriml\u001b[39;00m\u001b[38;5;21;01m.\u001b[39;00m\u001b[38;5;21;01mconvert\u001b[39;00m\u001b[38;5;21;01m.\u001b[39;00m\u001b[38;5;21;01mconvert\u001b[39;00m \u001b[38;5;28;01mimport\u001b[39;00m convert\n\u001b[1;32m      2\u001b[0m \u001b[38;5;28;01mfrom\u001b[39;00m \u001b[38;5;21;01mgriml\u001b[39;00m\u001b[38;5;21;01m.\u001b[39;00m\u001b[38;5;21;01mfilter\u001b[39;00m\u001b[38;5;21;01m.\u001b[39;00m\u001b[38;5;21;01mfilter_vectors\u001b[39;00m \u001b[38;5;28;01mimport\u001b[39;00m filter_vectors\n\u001b[1;32m      3\u001b[0m \u001b[38;5;28;01mfrom\u001b[39;00m \u001b[38;5;21;01mgriml\u001b[39;00m\u001b[38;5;21;01m.\u001b[39;00m\u001b[38;5;21;01mmerge\u001b[39;00m\u001b[38;5;21;01m.\u001b[39;00m\u001b[38;5;21;01mmerge_vectors\u001b[39;00m \u001b[38;5;28;01mimport\u001b[39;00m merge_vectors\n",
            "\u001b[0;31mModuleNotFoundError\u001b[0m: No module named 'griml'"
          ],
          "output_type": "error"
        }
      ],
      "execution_count": 2
    },
    {
      "id": "7ea09945-3c23-4170-b87d-bbe9671ed85e",
      "cell_type": "code",
      "source": "# Define projection of input binary raster\nproj = 'EPSG:3413' \n\n# Define band information of binary raster\nband_info = [{'b_number':1, 'method':'VIS', 'source':'S2'}, \n            {'b_number':2, 'method':'SAR', 'source':'S1'},\n            {'b_number':3, 'method':'DEM', 'source':'ARCTICDEM'}] \n\n# Define start and end dates of acquisitions from which rasters are created\nstart='20170701' \nend='20170831'\n\n# Define input binary raster\ninfile = 'test_north_greenland.tif'",
      "metadata": {
        "trusted": true
      },
      "outputs": [],
      "execution_count": 4
    },
    {
      "id": "64af38d2-08f7-46a1-a8c9-0a6e093927cd",
      "cell_type": "code",
      "source": "# Convert binary raster to vectors\nconvert([infile], proj, band_info, start, end) ",
      "metadata": {
        "trusted": true
      },
      "outputs": [],
      "execution_count": null
    },
    {
      "id": "9fe2db8b-bd17-44d4-9a96-c2548465bc99",
      "cell_type": "code",
      "source": "# Define input vector dataset\ninfile1 = 'test_filter.shp'\n\n# Define ice mask for spatial filtering\ninfile2 = 'test_icemask.shp'      \n\n# Filter vectors by ice mask\nfilter_vectors([infile1], infile2)",
      "metadata": {
        "trusted": true
      },
      "outputs": [
        {
          "ename": "<class 'NameError'>",
          "evalue": "name 'filter_vectors' is not defined",
          "traceback": [
            "\u001b[0;31m---------------------------------------------------------------------------\u001b[0m",
            "\u001b[0;31mNameError\u001b[0m                                 Traceback (most recent call last)",
            "Cell \u001b[0;32mIn[5], line 4\u001b[0m\n\u001b[1;32m      1\u001b[0m infile1 \u001b[38;5;241m=\u001b[39m \u001b[38;5;124m'\u001b[39m\u001b[38;5;124mtest_filter.shp\u001b[39m\u001b[38;5;124m'\u001b[39m\n\u001b[1;32m      2\u001b[0m infile2 \u001b[38;5;241m=\u001b[39m \u001b[38;5;124m'\u001b[39m\u001b[38;5;124mtest_icemask.shp\u001b[39m\u001b[38;5;124m'\u001b[39m      \n\u001b[0;32m----> 4\u001b[0m \u001b[43mfilter_vectors\u001b[49m([infile1], infile2)\n",
            "\u001b[0;31mNameError\u001b[0m: name 'filter_vectors' is not defined"
          ],
          "output_type": "error"
        }
      ],
      "execution_count": 5
    },
    {
      "id": "f043b2c4-684e-4007-b88b-0be9da17bbbf",
      "cell_type": "code",
      "source": "# Define vector datasets to merge together\ninfile1 = 'test_merge_1.shp'  \ninfile2 = 'test_merge_2.shp'                  \n\n# Merge vector datasets\nmerge_vectors([infile1,infile2]) ",
      "metadata": {
        "trusted": true
      },
      "outputs": [],
      "execution_count": null
    },
    {
      "id": "58582c01-a9e3-4298-b8a8-f929a4d27e03",
      "cell_type": "code",
      "source": "# Define vector dataset\ninfile1 = 'test_merge_2.shp' \n\n# Define placenames vector dataset\ninfile2 = 'test_placenames.shp'   \n\n# Define ice sheet basins dataset\ninfile3 = 'greenland_basins_polarstereo.shp'\n\n# Add metadata to vector dataset\nadd_metadata(infile1, infile2, infile3)",
      "metadata": {
        "trusted": true
      },
      "outputs": [
        {
          "ename": "<class 'NameError'>",
          "evalue": "name 'add_metadata' is not defined",
          "traceback": [
            "\u001b[0;31m---------------------------------------------------------------------------\u001b[0m",
            "\u001b[0;31mNameError\u001b[0m                                 Traceback (most recent call last)",
            "Cell \u001b[0;32mIn[1], line 5\u001b[0m\n\u001b[1;32m      2\u001b[0m infile2 \u001b[38;5;241m=\u001b[39m \u001b[38;5;124m'\u001b[39m\u001b[38;5;124mtest_placenames.shp\u001b[39m\u001b[38;5;124m'\u001b[39m            \n\u001b[1;32m      3\u001b[0m infile3 \u001b[38;5;241m=\u001b[39m \u001b[38;5;124m'\u001b[39m\u001b[38;5;124mgreenland_basins_polarstereo.shp\u001b[39m\u001b[38;5;124m'\u001b[39m\n\u001b[0;32m----> 5\u001b[0m \u001b[43madd_metadata\u001b[49m(infile1, infile2, infile3)\n",
            "\u001b[0;31mNameError\u001b[0m: name 'add_metadata' is not defined"
          ],
          "output_type": "error"
        }
      ],
      "execution_count": 1
    }
  ]
}