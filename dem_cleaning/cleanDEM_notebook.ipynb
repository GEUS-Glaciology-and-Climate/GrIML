{
 "cells": [
  {
   "cell_type": "code",
   "execution_count": 1,
   "metadata": {},
   "outputs": [],
   "source": [
    "#Import relevant packages\n",
    "import os, sys\n",
    "import arcpy\n",
    "from arcpy import env\n",
    "from arcpy.sa import Con, IsNull, Raster, Plus, Minus, FocalStatistics, NbrRectangle"
   ]
  },
  {
   "cell_type": "code",
   "execution_count": 6,
   "metadata": {},
   "outputs": [],
   "source": [
    "#USER INPUT\n",
    "\n",
    "#Directory for input/output files \n",
    "directory = 'D:/data/dem_kap'\n",
    "\n",
    "#Names of DEM files to process, as list\n",
    "demFiles = ['12_38_1_2_2m_v3.0_reg_dem.tif', '12_38_2_1_2m_v3.0_reg_dem.tif', \n",
    "            '12_38_2_2_2m_v3.0_reg_dem.tif']\n",
    "\n",
    "#UAV type (wingtra/ebee)\n",
    "uav = 'wingtra'\n",
    "\n",
    "#EPSG projection \n",
    "proj = 32622\n",
    "\n",
    "#Output cellsize\n",
    "outCell=30\n",
    "\n",
    "#Output DEM filename\n",
    "outFile = 'outDEM.tif'\n",
    "\n",
    "#Filepath to mask (e.g. land polygon)\n",
    "maskFile = 'G100_landpolygon_AOI_KAP.shp'\n",
    "\n",
    "#Invert mask file? (invert if polygon represents land, don't invert if polygon represents sea)\n",
    "invert = True\n",
    "\n",
    "#Bounding box file\n",
    "boundFile = '0605KAP_BoundingBox.shp'\n",
    "\n",
    "#Geoid file\n",
    "geoidFile = 'G:/geoide_GGEIOD16/ggeoid16.tif'\n",
    "\n",
    "#Remove intermediary files after processing?\n",
    "clean=True"
   ]
  },
  {
   "cell_type": "code",
   "execution_count": 7,
   "metadata": {},
   "outputs": [],
   "source": [
    "#Set ArcPy environment\n",
    "env.workspace = directory\n",
    "env.overwriteOutput = True\n",
    "env.cellSize=outCell\n",
    "env.resamplingMethod('MAXIMUM')"
   ]
  },
  {
   "cell_type": "code",
   "execution_count": 8,
   "metadata": {},
   "outputs": [],
   "source": [
    "#Check DEM datums and change if incompatible\n",
    "count = 1\n",
    "newFiles=[]\n",
    "\n",
    "#Loop through DEMs\n",
    "for d in demFiles:\n",
    "    \n",
    "    #Retrieve projection\n",
    "    coord = arcpy.Describe(d).spatialReference\n",
    "\n",
    "    #Check if projection is compatible with uav type\n",
    "    if uav in ['wingtra','Wingtra']:\n",
    "        if coord.name in ['Polar_Stereographic']:            \n",
    "            out = Minus(Raster(d), Raster(geoidFile))\n",
    "            rasFile = d.split('.')[0] + '_msl.' + d.split('.')[-1]\n",
    "            newFiles.append(rasFile)\n",
    "            out.save(rasFile) \n",
    "        else:\n",
    "            newFiles.append(d)\n",
    "    else:\n",
    "        if coord.name in ['Polar_Stereographic']: \n",
    "            newFiles.append(d)\n",
    "        else:\n",
    "            out = Plus(Raster(d), Raster(geoidFile))\n",
    "            rasFile = d.split('.')[0] + '_ellip.' + d.split('.')[-1]\n",
    "            newFiles.append(rasFile)\n",
    "            out.save(rasFile) \n",
    "    count=count+1"
   ]
  },
  {
   "cell_type": "code",
   "execution_count": 9,
   "metadata": {},
   "outputs": [],
   "source": [
    "#Merge DEMs\n",
    "arcpy.MosaicToNewRaster_management(newFiles, directory,'merged_dem.tif', \"\", \n",
    "                                   '32_BIT_FLOAT', '', '1', 'FIRST', 'FIRST')\n",
    "dem = Raster('merged_dem.tif')"
   ]
  },
  {
   "cell_type": "code",
   "execution_count": 10,
   "metadata": {},
   "outputs": [],
   "source": [
    "#Mask merged DEM if mask file is provided\n",
    "if maskFile is not None:\n",
    "    \n",
    "    #Convert vector to raster\n",
    "    field = arcpy.ListFields(maskFile)[0]\n",
    "    field = str(field.name)\n",
    "    arcpy.PolygonToRaster_conversion(maskFile, field, 'mask_raster.tif', '', '', '')\n",
    "    maskRas = Raster('mask_raster.tif')    \n",
    "    \n",
    "    #Mask DEM, invert if flag is True\n",
    "    if invert is False:\n",
    "        masked = Con(IsNull(maskRas), dem, 0)       \n",
    "    else:\n",
    "        masked = Con(IsNull(maskRas), 0, dem) \n",
    "        \n",
    "    #Mosaic masked DEM and merged DEM (take this step out if you want the mask to dictate the DEM extent)\n",
    "    arcpy.MosaicToNewRaster_management([masked,dem], directory, 'masked_dem.tif',\n",
    "                                        \"\", '32_BIT_FLOAT', '10', '1', 'FIRST', 'FIRST')    \n",
    "    dem = Raster('masked_dem.tif')"
   ]
  },
  {
   "cell_type": "code",
   "execution_count": 11,
   "metadata": {},
   "outputs": [],
   "source": [
    "#Fill holes in DEM (if hole is less than 10 x 10px)\n",
    "dem = Con(IsNull(dem), FocalStatistics(dem, NbrRectangle(10, 10),'MEAN'), dem)"
   ]
  },
  {
   "cell_type": "code",
   "execution_count": 12,
   "metadata": {},
   "outputs": [],
   "source": [
    "#Reproject DEM if EPSG number is provided\n",
    "if proj is not None:\n",
    "\n",
    "    #Create spatial reference from EPSG\n",
    "    outproj = arcpy.SpatialReference(int(proj))\n",
    "    \n",
    "    #Project DEM\n",
    "    arcpy.ProjectRaster_management(dem, 'reprojected_dem.tif', outproj,\n",
    "                                   'BILINEAR', str(outCell))\n",
    "    dem = Raster('reprojected_dem.tif')"
   ]
  },
  {
   "cell_type": "code",
   "execution_count": 13,
   "metadata": {},
   "outputs": [],
   "source": [
    "#Clip DEM to bounding box if provided\n",
    "if boundFile is not None:\n",
    "    arcpy.Clip_management(dem, '', 'clipped_dem.tif', boundFile, '', 'ClippingGeometry') \n",
    "    dem = Raster('clipped_dem.tif')"
   ]
  },
  {
   "cell_type": "code",
   "execution_count": 14,
   "metadata": {},
   "outputs": [],
   "source": [
    "#Save final DEM to file\n",
    "dem.save(outFile)"
   ]
  },
  {
   "cell_type": "code",
   "execution_count": 15,
   "metadata": {},
   "outputs": [
    {
     "name": "stdout",
     "output_type": "stream",
     "text": [
      "\n",
      "Cleaning folder D:/data/dem_kap\n"
     ]
    }
   ],
   "source": [
    "#Clean intermediary files from output folder\n",
    "\n",
    "#Define function for removing files\n",
    "def removeFile(filename):\n",
    "    if os.path.isfile(filename) is True:\n",
    "        try:\n",
    "            os.remove(str(filename))\n",
    "            print(filename + ' removed')\n",
    "        except:\n",
    "            print(filename + ' could not be removed. Check permissions.')\n",
    "            pass\n",
    "\n",
    "#Clean folder if flag is True\n",
    "if clean is True:\n",
    "    print('\\nCleaning folder ' + str(directory))\n",
    "    removeFile(directory + 'merged_dem.tif')\n",
    "    removeFile(directory + 'mask_raster.tif')\n",
    "    removeFile(directory + 'masked_dem.tif')    \n",
    "    removeFile(directory + 'reprojected_dem.tif')            \n",
    "    removeFile(directory + 'clipped_dem.tif')"
   ]
  }
 ],
 "metadata": {
  "kernelspec": {
   "display_name": "Python 3",
   "language": "python",
   "name": "python3"
  },
  "language_info": {
   "codemirror_mode": {
    "name": "ipython",
    "version": 3
   },
   "file_extension": ".py",
   "mimetype": "text/x-python",
   "name": "python",
   "nbconvert_exporter": "python",
   "pygments_lexer": "ipython3",
   "version": "3.6.10"
  }
 },
 "nbformat": 4,
 "nbformat_minor": 2
}
